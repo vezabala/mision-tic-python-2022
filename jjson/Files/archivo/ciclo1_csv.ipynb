{
  "nbformat": 4,
  "nbformat_minor": 0,
  "metadata": {
    "colab": {
      "name": "ciclo1_csv.ipynb",
      "provenance": [],
      "collapsed_sections": []
    },
    "kernelspec": {
      "name": "python3",
      "display_name": "Python 3"
    },
    "language_info": {
      "name": "python"
    }
  },
  "cells": [
    {
      "cell_type": "code",
      "source": [
        "import json\n",
        "import pandas as pd\n",
        "\n",
        "with open('sample_data/anscombe.json') as arquivo_json:\n",
        "    # objeto python recebendo o carregamento de um arquivo json\n",
        "    objeto_json = json.load(arquivo_json)\n",
        "    for i in objeto_json:\n",
        "      print(i)\n"
      ],
      "metadata": {
        "colab": {
          "base_uri": "https://localhost:8080/"
        },
        "id": "9E7BJwxTAP0j",
        "outputId": "ae5b7d9e-ecdf-47e1-e92d-23b3c7ec5f0c"
      },
      "execution_count": null,
      "outputs": [
        {
          "output_type": "stream",
          "name": "stdout",
          "text": [
            "{'Series': 'I', 'X': 10.0, 'Y': 8.04}\n",
            "{'Series': 'I', 'X': 8.0, 'Y': 6.95}\n",
            "{'Series': 'I', 'X': 13.0, 'Y': 7.58}\n",
            "{'Series': 'I', 'X': 9.0, 'Y': 8.81}\n",
            "{'Series': 'I', 'X': 11.0, 'Y': 8.33}\n",
            "{'Series': 'I', 'X': 14.0, 'Y': 9.96}\n",
            "{'Series': 'I', 'X': 6.0, 'Y': 7.24}\n",
            "{'Series': 'I', 'X': 4.0, 'Y': 4.26}\n",
            "{'Series': 'I', 'X': 12.0, 'Y': 10.84}\n",
            "{'Series': 'I', 'X': 7.0, 'Y': 4.81}\n",
            "{'Series': 'I', 'X': 5.0, 'Y': 5.68}\n",
            "{'Series': 'II', 'X': 10.0, 'Y': 9.14}\n",
            "{'Series': 'II', 'X': 8.0, 'Y': 8.14}\n",
            "{'Series': 'II', 'X': 13.0, 'Y': 8.74}\n",
            "{'Series': 'II', 'X': 9.0, 'Y': 8.77}\n",
            "{'Series': 'II', 'X': 11.0, 'Y': 9.26}\n",
            "{'Series': 'II', 'X': 14.0, 'Y': 8.1}\n",
            "{'Series': 'II', 'X': 6.0, 'Y': 6.13}\n",
            "{'Series': 'II', 'X': 4.0, 'Y': 3.1}\n",
            "{'Series': 'II', 'X': 12.0, 'Y': 9.13}\n",
            "{'Series': 'II', 'X': 7.0, 'Y': 7.26}\n",
            "{'Series': 'II', 'X': 5.0, 'Y': 4.74}\n",
            "{'Series': 'III', 'X': 10.0, 'Y': 7.46}\n",
            "{'Series': 'III', 'X': 8.0, 'Y': 6.77}\n",
            "{'Series': 'III', 'X': 13.0, 'Y': 12.74}\n",
            "{'Series': 'III', 'X': 9.0, 'Y': 7.11}\n",
            "{'Series': 'III', 'X': 11.0, 'Y': 7.81}\n",
            "{'Series': 'III', 'X': 14.0, 'Y': 8.84}\n",
            "{'Series': 'III', 'X': 6.0, 'Y': 6.08}\n",
            "{'Series': 'III', 'X': 4.0, 'Y': 5.39}\n",
            "{'Series': 'III', 'X': 12.0, 'Y': 8.15}\n",
            "{'Series': 'III', 'X': 7.0, 'Y': 6.42}\n",
            "{'Series': 'III', 'X': 5.0, 'Y': 5.73}\n",
            "{'Series': 'IV', 'X': 8.0, 'Y': 6.58}\n",
            "{'Series': 'IV', 'X': 8.0, 'Y': 5.76}\n",
            "{'Series': 'IV', 'X': 8.0, 'Y': 7.71}\n",
            "{'Series': 'IV', 'X': 8.0, 'Y': 8.84}\n",
            "{'Series': 'IV', 'X': 8.0, 'Y': 8.47}\n",
            "{'Series': 'IV', 'X': 8.0, 'Y': 7.04}\n",
            "{'Series': 'IV', 'X': 8.0, 'Y': 5.25}\n",
            "{'Series': 'IV', 'X': 19.0, 'Y': 12.5}\n",
            "{'Series': 'IV', 'X': 8.0, 'Y': 5.56}\n",
            "{'Series': 'IV', 'X': 8.0, 'Y': 7.91}\n",
            "{'Series': 'IV', 'X': 8.0, 'Y': 6.89}\n"
          ]
        }
      ]
    },
    {
      "cell_type": "code",
      "source": [
        "type(objeto_json)"
      ],
      "metadata": {
        "colab": {
          "base_uri": "https://localhost:8080/"
        },
        "id": "An-lkpbPA92y",
        "outputId": "4884091f-fa65-43ed-91fc-431b6eccde9f"
      },
      "execution_count": null,
      "outputs": [
        {
          "output_type": "execute_result",
          "data": {
            "text/plain": [
              "list"
            ]
          },
          "metadata": {},
          "execution_count": 8
        }
      ]
    },
    {
      "cell_type": "code",
      "source": [
        "objeto_json[0]"
      ],
      "metadata": {
        "colab": {
          "base_uri": "https://localhost:8080/"
        },
        "id": "oN9M-JA8BAYZ",
        "outputId": "d5f2abb4-3163-4b53-8e80-5abb20b93ca6"
      },
      "execution_count": null,
      "outputs": [
        {
          "output_type": "execute_result",
          "data": {
            "text/plain": [
              "{'Series': 'I', 'X': 10.0, 'Y': 8.04}"
            ]
          },
          "metadata": {},
          "execution_count": 9
        }
      ]
    },
    {
      "cell_type": "code",
      "source": [
        "type(objeto_json[0])"
      ],
      "metadata": {
        "colab": {
          "base_uri": "https://localhost:8080/"
        },
        "id": "hWqgqjYtBDsi",
        "outputId": "9623c431-a9a1-4e91-fe46-dd360ce02806"
      },
      "execution_count": null,
      "outputs": [
        {
          "output_type": "execute_result",
          "data": {
            "text/plain": [
              "dict"
            ]
          },
          "metadata": {},
          "execution_count": 10
        }
      ]
    },
    {
      "cell_type": "code",
      "source": [
        "objeto_json[1]"
      ],
      "metadata": {
        "colab": {
          "base_uri": "https://localhost:8080/"
        },
        "id": "mb764mFJBGxi",
        "outputId": "5496530f-cd1b-4edc-cf9d-7c49fe05dbbc"
      },
      "execution_count": null,
      "outputs": [
        {
          "output_type": "execute_result",
          "data": {
            "text/plain": [
              "{'Series': 'I', 'X': 8.0, 'Y': 6.95}"
            ]
          },
          "metadata": {},
          "execution_count": 11
        }
      ]
    },
    {
      "cell_type": "code",
      "source": [
        "objeto_json[0]['Series']"
      ],
      "metadata": {
        "colab": {
          "base_uri": "https://localhost:8080/",
          "height": 35
        },
        "id": "zW5yECppBK-T",
        "outputId": "580f8e38-86c9-4d31-8e86-3e770b99df4d"
      },
      "execution_count": null,
      "outputs": [
        {
          "output_type": "execute_result",
          "data": {
            "text/plain": [
              "'I'"
            ],
            "application/vnd.google.colaboratory.intrinsic+json": {
              "type": "string"
            }
          },
          "metadata": {},
          "execution_count": 13
        }
      ]
    },
    {
      "cell_type": "code",
      "source": [
        "objeto_json[1]['Series']"
      ],
      "metadata": {
        "colab": {
          "base_uri": "https://localhost:8080/",
          "height": 35
        },
        "id": "yPCIVf9MBWCB",
        "outputId": "dbe2f666-b86c-45e2-9306-beb8305f525b"
      },
      "execution_count": null,
      "outputs": [
        {
          "output_type": "execute_result",
          "data": {
            "text/plain": [
              "'I'"
            ],
            "application/vnd.google.colaboratory.intrinsic+json": {
              "type": "string"
            }
          },
          "metadata": {},
          "execution_count": 14
        }
      ]
    },
    {
      "cell_type": "code",
      "source": [
        "objeto_json[0]['X']"
      ],
      "metadata": {
        "colab": {
          "base_uri": "https://localhost:8080/"
        },
        "id": "T93HDGGGBZqa",
        "outputId": "30860bb6-108d-42aa-acd0-3aec1c2796d5"
      },
      "execution_count": null,
      "outputs": [
        {
          "output_type": "execute_result",
          "data": {
            "text/plain": [
              "10.0"
            ]
          },
          "metadata": {},
          "execution_count": 15
        }
      ]
    },
    {
      "cell_type": "code",
      "source": [
        "type(objeto_json[0]['X'])"
      ],
      "metadata": {
        "colab": {
          "base_uri": "https://localhost:8080/"
        },
        "id": "KmGIA13IBd6i",
        "outputId": "2852cc30-67cf-4cbf-e08c-e44c0cb599a3"
      },
      "execution_count": null,
      "outputs": [
        {
          "output_type": "execute_result",
          "data": {
            "text/plain": [
              "float"
            ]
          },
          "metadata": {},
          "execution_count": 16
        }
      ]
    },
    {
      "cell_type": "code",
      "source": [
        "import csv\n",
        "import numpy as np\n",
        "import requests\n",
        "import pandas as pd"
      ],
      "metadata": {
        "id": "jC0iQYj8BhXT"
      },
      "execution_count": 1,
      "outputs": []
    },
    {
      "cell_type": "code",
      "source": [
        "pd.read_csv('sample_data/iris.csv')"
      ],
      "metadata": {
        "colab": {
          "base_uri": "https://localhost:8080/",
          "height": 424
        },
        "id": "DFUrHBYMlud-",
        "outputId": "71b631d1-d5b9-4b4b-b7eb-c3092d85fa9b"
      },
      "execution_count": 3,
      "outputs": [
        {
          "output_type": "execute_result",
          "data": {
            "text/plain": [
              "     sepal_length  sepal_width  petal_length  petal_width    species\n",
              "0             5.1          3.5           1.4          0.2     setosa\n",
              "1             4.9          3.0           1.4          0.2     setosa\n",
              "2             4.7          3.2           1.3          0.2     setosa\n",
              "3             4.6          3.1           1.5          0.2     setosa\n",
              "4             5.0          3.6           1.4          0.2     setosa\n",
              "..            ...          ...           ...          ...        ...\n",
              "145           6.7          3.0           5.2          2.3  virginica\n",
              "146           6.3          2.5           5.0          1.9  virginica\n",
              "147           6.5          3.0           5.2          2.0  virginica\n",
              "148           6.2          3.4           5.4          2.3  virginica\n",
              "149           5.9          3.0           5.1          1.8  virginica\n",
              "\n",
              "[150 rows x 5 columns]"
            ],
            "text/html": [
              "\n",
              "  <div id=\"df-e8ae5ff0-bf5e-47f3-a50c-76b08bdf5c19\">\n",
              "    <div class=\"colab-df-container\">\n",
              "      <div>\n",
              "<style scoped>\n",
              "    .dataframe tbody tr th:only-of-type {\n",
              "        vertical-align: middle;\n",
              "    }\n",
              "\n",
              "    .dataframe tbody tr th {\n",
              "        vertical-align: top;\n",
              "    }\n",
              "\n",
              "    .dataframe thead th {\n",
              "        text-align: right;\n",
              "    }\n",
              "</style>\n",
              "<table border=\"1\" class=\"dataframe\">\n",
              "  <thead>\n",
              "    <tr style=\"text-align: right;\">\n",
              "      <th></th>\n",
              "      <th>sepal_length</th>\n",
              "      <th>sepal_width</th>\n",
              "      <th>petal_length</th>\n",
              "      <th>petal_width</th>\n",
              "      <th>species</th>\n",
              "    </tr>\n",
              "  </thead>\n",
              "  <tbody>\n",
              "    <tr>\n",
              "      <th>0</th>\n",
              "      <td>5.1</td>\n",
              "      <td>3.5</td>\n",
              "      <td>1.4</td>\n",
              "      <td>0.2</td>\n",
              "      <td>setosa</td>\n",
              "    </tr>\n",
              "    <tr>\n",
              "      <th>1</th>\n",
              "      <td>4.9</td>\n",
              "      <td>3.0</td>\n",
              "      <td>1.4</td>\n",
              "      <td>0.2</td>\n",
              "      <td>setosa</td>\n",
              "    </tr>\n",
              "    <tr>\n",
              "      <th>2</th>\n",
              "      <td>4.7</td>\n",
              "      <td>3.2</td>\n",
              "      <td>1.3</td>\n",
              "      <td>0.2</td>\n",
              "      <td>setosa</td>\n",
              "    </tr>\n",
              "    <tr>\n",
              "      <th>3</th>\n",
              "      <td>4.6</td>\n",
              "      <td>3.1</td>\n",
              "      <td>1.5</td>\n",
              "      <td>0.2</td>\n",
              "      <td>setosa</td>\n",
              "    </tr>\n",
              "    <tr>\n",
              "      <th>4</th>\n",
              "      <td>5.0</td>\n",
              "      <td>3.6</td>\n",
              "      <td>1.4</td>\n",
              "      <td>0.2</td>\n",
              "      <td>setosa</td>\n",
              "    </tr>\n",
              "    <tr>\n",
              "      <th>...</th>\n",
              "      <td>...</td>\n",
              "      <td>...</td>\n",
              "      <td>...</td>\n",
              "      <td>...</td>\n",
              "      <td>...</td>\n",
              "    </tr>\n",
              "    <tr>\n",
              "      <th>145</th>\n",
              "      <td>6.7</td>\n",
              "      <td>3.0</td>\n",
              "      <td>5.2</td>\n",
              "      <td>2.3</td>\n",
              "      <td>virginica</td>\n",
              "    </tr>\n",
              "    <tr>\n",
              "      <th>146</th>\n",
              "      <td>6.3</td>\n",
              "      <td>2.5</td>\n",
              "      <td>5.0</td>\n",
              "      <td>1.9</td>\n",
              "      <td>virginica</td>\n",
              "    </tr>\n",
              "    <tr>\n",
              "      <th>147</th>\n",
              "      <td>6.5</td>\n",
              "      <td>3.0</td>\n",
              "      <td>5.2</td>\n",
              "      <td>2.0</td>\n",
              "      <td>virginica</td>\n",
              "    </tr>\n",
              "    <tr>\n",
              "      <th>148</th>\n",
              "      <td>6.2</td>\n",
              "      <td>3.4</td>\n",
              "      <td>5.4</td>\n",
              "      <td>2.3</td>\n",
              "      <td>virginica</td>\n",
              "    </tr>\n",
              "    <tr>\n",
              "      <th>149</th>\n",
              "      <td>5.9</td>\n",
              "      <td>3.0</td>\n",
              "      <td>5.1</td>\n",
              "      <td>1.8</td>\n",
              "      <td>virginica</td>\n",
              "    </tr>\n",
              "  </tbody>\n",
              "</table>\n",
              "<p>150 rows × 5 columns</p>\n",
              "</div>\n",
              "      <button class=\"colab-df-convert\" onclick=\"convertToInteractive('df-e8ae5ff0-bf5e-47f3-a50c-76b08bdf5c19')\"\n",
              "              title=\"Convert this dataframe to an interactive table.\"\n",
              "              style=\"display:none;\">\n",
              "        \n",
              "  <svg xmlns=\"http://www.w3.org/2000/svg\" height=\"24px\"viewBox=\"0 0 24 24\"\n",
              "       width=\"24px\">\n",
              "    <path d=\"M0 0h24v24H0V0z\" fill=\"none\"/>\n",
              "    <path d=\"M18.56 5.44l.94 2.06.94-2.06 2.06-.94-2.06-.94-.94-2.06-.94 2.06-2.06.94zm-11 1L8.5 8.5l.94-2.06 2.06-.94-2.06-.94L8.5 2.5l-.94 2.06-2.06.94zm10 10l.94 2.06.94-2.06 2.06-.94-2.06-.94-.94-2.06-.94 2.06-2.06.94z\"/><path d=\"M17.41 7.96l-1.37-1.37c-.4-.4-.92-.59-1.43-.59-.52 0-1.04.2-1.43.59L10.3 9.45l-7.72 7.72c-.78.78-.78 2.05 0 2.83L4 21.41c.39.39.9.59 1.41.59.51 0 1.02-.2 1.41-.59l7.78-7.78 2.81-2.81c.8-.78.8-2.07 0-2.86zM5.41 20L4 18.59l7.72-7.72 1.47 1.35L5.41 20z\"/>\n",
              "  </svg>\n",
              "      </button>\n",
              "      \n",
              "  <style>\n",
              "    .colab-df-container {\n",
              "      display:flex;\n",
              "      flex-wrap:wrap;\n",
              "      gap: 12px;\n",
              "    }\n",
              "\n",
              "    .colab-df-convert {\n",
              "      background-color: #E8F0FE;\n",
              "      border: none;\n",
              "      border-radius: 50%;\n",
              "      cursor: pointer;\n",
              "      display: none;\n",
              "      fill: #1967D2;\n",
              "      height: 32px;\n",
              "      padding: 0 0 0 0;\n",
              "      width: 32px;\n",
              "    }\n",
              "\n",
              "    .colab-df-convert:hover {\n",
              "      background-color: #E2EBFA;\n",
              "      box-shadow: 0px 1px 2px rgba(60, 64, 67, 0.3), 0px 1px 3px 1px rgba(60, 64, 67, 0.15);\n",
              "      fill: #174EA6;\n",
              "    }\n",
              "\n",
              "    [theme=dark] .colab-df-convert {\n",
              "      background-color: #3B4455;\n",
              "      fill: #D2E3FC;\n",
              "    }\n",
              "\n",
              "    [theme=dark] .colab-df-convert:hover {\n",
              "      background-color: #434B5C;\n",
              "      box-shadow: 0px 1px 3px 1px rgba(0, 0, 0, 0.15);\n",
              "      filter: drop-shadow(0px 1px 2px rgba(0, 0, 0, 0.3));\n",
              "      fill: #FFFFFF;\n",
              "    }\n",
              "  </style>\n",
              "\n",
              "      <script>\n",
              "        const buttonEl =\n",
              "          document.querySelector('#df-e8ae5ff0-bf5e-47f3-a50c-76b08bdf5c19 button.colab-df-convert');\n",
              "        buttonEl.style.display =\n",
              "          google.colab.kernel.accessAllowed ? 'block' : 'none';\n",
              "\n",
              "        async function convertToInteractive(key) {\n",
              "          const element = document.querySelector('#df-e8ae5ff0-bf5e-47f3-a50c-76b08bdf5c19');\n",
              "          const dataTable =\n",
              "            await google.colab.kernel.invokeFunction('convertToInteractive',\n",
              "                                                     [key], {});\n",
              "          if (!dataTable) return;\n",
              "\n",
              "          const docLinkHtml = 'Like what you see? Visit the ' +\n",
              "            '<a target=\"_blank\" href=https://colab.research.google.com/notebooks/data_table.ipynb>data table notebook</a>'\n",
              "            + ' to learn more about interactive tables.';\n",
              "          element.innerHTML = '';\n",
              "          dataTable['output_type'] = 'display_data';\n",
              "          await google.colab.output.renderOutput(dataTable, element);\n",
              "          const docLink = document.createElement('div');\n",
              "          docLink.innerHTML = docLinkHtml;\n",
              "          element.appendChild(docLink);\n",
              "        }\n",
              "      </script>\n",
              "    </div>\n",
              "  </div>\n",
              "  "
            ]
          },
          "metadata": {},
          "execution_count": 3
        }
      ]
    },
    {
      "cell_type": "code",
      "source": [
        "df=pd.read_csv('sample_data/iris.csv')\n",
        "df.head()\n"
      ],
      "metadata": {
        "colab": {
          "base_uri": "https://localhost:8080/",
          "height": 206
        },
        "id": "lFhqLiZDl_Go",
        "outputId": "58d49b69-b599-4161-cb73-e5125636615e"
      },
      "execution_count": 9,
      "outputs": [
        {
          "output_type": "execute_result",
          "data": {
            "text/plain": [
              "   sepal_length  sepal_width  petal_length  petal_width species\n",
              "0           5.1          3.5           1.4          0.2  setosa\n",
              "1           4.9          3.0           1.4          0.2  setosa\n",
              "2           4.7          3.2           1.3          0.2  setosa\n",
              "3           4.6          3.1           1.5          0.2  setosa\n",
              "4           5.0          3.6           1.4          0.2  setosa"
            ],
            "text/html": [
              "\n",
              "  <div id=\"df-1718fcf6-df70-4856-b51e-cdf2c9773ec4\">\n",
              "    <div class=\"colab-df-container\">\n",
              "      <div>\n",
              "<style scoped>\n",
              "    .dataframe tbody tr th:only-of-type {\n",
              "        vertical-align: middle;\n",
              "    }\n",
              "\n",
              "    .dataframe tbody tr th {\n",
              "        vertical-align: top;\n",
              "    }\n",
              "\n",
              "    .dataframe thead th {\n",
              "        text-align: right;\n",
              "    }\n",
              "</style>\n",
              "<table border=\"1\" class=\"dataframe\">\n",
              "  <thead>\n",
              "    <tr style=\"text-align: right;\">\n",
              "      <th></th>\n",
              "      <th>sepal_length</th>\n",
              "      <th>sepal_width</th>\n",
              "      <th>petal_length</th>\n",
              "      <th>petal_width</th>\n",
              "      <th>species</th>\n",
              "    </tr>\n",
              "  </thead>\n",
              "  <tbody>\n",
              "    <tr>\n",
              "      <th>0</th>\n",
              "      <td>5.1</td>\n",
              "      <td>3.5</td>\n",
              "      <td>1.4</td>\n",
              "      <td>0.2</td>\n",
              "      <td>setosa</td>\n",
              "    </tr>\n",
              "    <tr>\n",
              "      <th>1</th>\n",
              "      <td>4.9</td>\n",
              "      <td>3.0</td>\n",
              "      <td>1.4</td>\n",
              "      <td>0.2</td>\n",
              "      <td>setosa</td>\n",
              "    </tr>\n",
              "    <tr>\n",
              "      <th>2</th>\n",
              "      <td>4.7</td>\n",
              "      <td>3.2</td>\n",
              "      <td>1.3</td>\n",
              "      <td>0.2</td>\n",
              "      <td>setosa</td>\n",
              "    </tr>\n",
              "    <tr>\n",
              "      <th>3</th>\n",
              "      <td>4.6</td>\n",
              "      <td>3.1</td>\n",
              "      <td>1.5</td>\n",
              "      <td>0.2</td>\n",
              "      <td>setosa</td>\n",
              "    </tr>\n",
              "    <tr>\n",
              "      <th>4</th>\n",
              "      <td>5.0</td>\n",
              "      <td>3.6</td>\n",
              "      <td>1.4</td>\n",
              "      <td>0.2</td>\n",
              "      <td>setosa</td>\n",
              "    </tr>\n",
              "  </tbody>\n",
              "</table>\n",
              "</div>\n",
              "      <button class=\"colab-df-convert\" onclick=\"convertToInteractive('df-1718fcf6-df70-4856-b51e-cdf2c9773ec4')\"\n",
              "              title=\"Convert this dataframe to an interactive table.\"\n",
              "              style=\"display:none;\">\n",
              "        \n",
              "  <svg xmlns=\"http://www.w3.org/2000/svg\" height=\"24px\"viewBox=\"0 0 24 24\"\n",
              "       width=\"24px\">\n",
              "    <path d=\"M0 0h24v24H0V0z\" fill=\"none\"/>\n",
              "    <path d=\"M18.56 5.44l.94 2.06.94-2.06 2.06-.94-2.06-.94-.94-2.06-.94 2.06-2.06.94zm-11 1L8.5 8.5l.94-2.06 2.06-.94-2.06-.94L8.5 2.5l-.94 2.06-2.06.94zm10 10l.94 2.06.94-2.06 2.06-.94-2.06-.94-.94-2.06-.94 2.06-2.06.94z\"/><path d=\"M17.41 7.96l-1.37-1.37c-.4-.4-.92-.59-1.43-.59-.52 0-1.04.2-1.43.59L10.3 9.45l-7.72 7.72c-.78.78-.78 2.05 0 2.83L4 21.41c.39.39.9.59 1.41.59.51 0 1.02-.2 1.41-.59l7.78-7.78 2.81-2.81c.8-.78.8-2.07 0-2.86zM5.41 20L4 18.59l7.72-7.72 1.47 1.35L5.41 20z\"/>\n",
              "  </svg>\n",
              "      </button>\n",
              "      \n",
              "  <style>\n",
              "    .colab-df-container {\n",
              "      display:flex;\n",
              "      flex-wrap:wrap;\n",
              "      gap: 12px;\n",
              "    }\n",
              "\n",
              "    .colab-df-convert {\n",
              "      background-color: #E8F0FE;\n",
              "      border: none;\n",
              "      border-radius: 50%;\n",
              "      cursor: pointer;\n",
              "      display: none;\n",
              "      fill: #1967D2;\n",
              "      height: 32px;\n",
              "      padding: 0 0 0 0;\n",
              "      width: 32px;\n",
              "    }\n",
              "\n",
              "    .colab-df-convert:hover {\n",
              "      background-color: #E2EBFA;\n",
              "      box-shadow: 0px 1px 2px rgba(60, 64, 67, 0.3), 0px 1px 3px 1px rgba(60, 64, 67, 0.15);\n",
              "      fill: #174EA6;\n",
              "    }\n",
              "\n",
              "    [theme=dark] .colab-df-convert {\n",
              "      background-color: #3B4455;\n",
              "      fill: #D2E3FC;\n",
              "    }\n",
              "\n",
              "    [theme=dark] .colab-df-convert:hover {\n",
              "      background-color: #434B5C;\n",
              "      box-shadow: 0px 1px 3px 1px rgba(0, 0, 0, 0.15);\n",
              "      filter: drop-shadow(0px 1px 2px rgba(0, 0, 0, 0.3));\n",
              "      fill: #FFFFFF;\n",
              "    }\n",
              "  </style>\n",
              "\n",
              "      <script>\n",
              "        const buttonEl =\n",
              "          document.querySelector('#df-1718fcf6-df70-4856-b51e-cdf2c9773ec4 button.colab-df-convert');\n",
              "        buttonEl.style.display =\n",
              "          google.colab.kernel.accessAllowed ? 'block' : 'none';\n",
              "\n",
              "        async function convertToInteractive(key) {\n",
              "          const element = document.querySelector('#df-1718fcf6-df70-4856-b51e-cdf2c9773ec4');\n",
              "          const dataTable =\n",
              "            await google.colab.kernel.invokeFunction('convertToInteractive',\n",
              "                                                     [key], {});\n",
              "          if (!dataTable) return;\n",
              "\n",
              "          const docLinkHtml = 'Like what you see? Visit the ' +\n",
              "            '<a target=\"_blank\" href=https://colab.research.google.com/notebooks/data_table.ipynb>data table notebook</a>'\n",
              "            + ' to learn more about interactive tables.';\n",
              "          element.innerHTML = '';\n",
              "          dataTable['output_type'] = 'display_data';\n",
              "          await google.colab.output.renderOutput(dataTable, element);\n",
              "          const docLink = document.createElement('div');\n",
              "          docLink.innerHTML = docLinkHtml;\n",
              "          element.appendChild(docLink);\n",
              "        }\n",
              "      </script>\n",
              "    </div>\n",
              "  </div>\n",
              "  "
            ]
          },
          "metadata": {},
          "execution_count": 9
        }
      ]
    },
    {
      "cell_type": "code",
      "source": [
        "df.columns"
      ],
      "metadata": {
        "colab": {
          "base_uri": "https://localhost:8080/"
        },
        "id": "LiB6RXrTmZR2",
        "outputId": "cbf2d502-c15f-4537-a2f8-99f74d7a5622"
      },
      "execution_count": 10,
      "outputs": [
        {
          "output_type": "execute_result",
          "data": {
            "text/plain": [
              "Index(['sepal_length', 'sepal_width', 'petal_length', 'petal_width',\n",
              "       'species'],\n",
              "      dtype='object')"
            ]
          },
          "metadata": {},
          "execution_count": 10
        }
      ]
    },
    {
      "cell_type": "code",
      "source": [
        "from csv import writer, reader, DictWriter,DictReader\n",
        "\n",
        "\n",
        "import chardet\n",
        "\n",
        "\n",
        "with open('sample_data/TA_PRECO_MEDICAMENTO.csv', 'rb') as rawdata:\n",
        "    result = chardet.detect(rawdata.read(100000))\n",
        "result\n",
        "df = pd.read_csv('sample_data/TA_PRECO_MEDICAMENTO.csv', index_col=0, sep=';', encoding='latin-1')\n",
        "print(df)\n"
      ],
      "metadata": {
        "colab": {
          "base_uri": "https://localhost:8080/"
        },
        "id": "X0oqPMTBmgGH",
        "outputId": "af8d661f-6aab-4091-8dc3-7ec0626b3ed5"
      },
      "execution_count": 44,
      "outputs": [
        {
          "output_type": "stream",
          "name": "stdout",
          "text": [
            "                                                                  CNPJ  \\\n",
            "SUBSTÂNCIA                                                               \n",
            "SALICILATO DE FENILA;ÁCIDO SALICÍLICO;ÓXIDO DE ...  33.379.884/0001-96   \n",
            "DIENOGESTE;VALERATO DE ESTRADIOL                    56.990.534/0001-67   \n",
            "HIDROCLOROTIAZIDA;MALEATO DE ENALAPRIL              45.987.013/0001-34   \n",
            "HIDROCLOROTIAZIDA;MALEATO DE ENALAPRIL              45.987.013/0001-34   \n",
            "MONTELUCASTE                                        45.987.013/0001-34   \n",
            "...                                                                ...   \n",
            "CLORIDRATO DE SEVELÂMER                             13.078.518/0001-90   \n",
            "INSULINA HUMANA                                     13.078.518/0001-90   \n",
            "INSULINA HUMANA                                     13.078.518/0001-90   \n",
            "ISOCONAZOL;ABARELIX                                 33.683.202/0001-34   \n",
            "VALPROATO DE SÓDIO                                  49.475.833/0001-06   \n",
            "\n",
            "                                                                                          LABORATÓRIO  \\\n",
            "SUBSTÂNCIA                                                                                              \n",
            "SALICILATO DE FENILA;ÁCIDO SALICÍLICO;ÓXIDO DE ...                           LABORATORIO SIMOES LTDA.   \n",
            "DIENOGESTE;VALERATO DE ESTRADIOL                       SCHERING DO BRASIL QUÍMICA E FARMACÊUTICA LTDA   \n",
            "HIDROCLOROTIAZIDA;MALEATO DE ENALAPRIL                                     ORGANON FARMACÊUTICA LTDA.   \n",
            "HIDROCLOROTIAZIDA;MALEATO DE ENALAPRIL                                     ORGANON FARMACÊUTICA LTDA.   \n",
            "MONTELUCASTE                                                               ORGANON FARMACÊUTICA LTDA.   \n",
            "...                                                                                               ...   \n",
            "CLORIDRATO DE SEVELÂMER                             FUNDAÇÃO BAIANA DE PESQ. CIENTIFICA E DESENV. ...   \n",
            "INSULINA HUMANA                                     FUNDAÇÃO BAIANA DE PESQ. CIENTIFICA E DESENV. ...   \n",
            "INSULINA HUMANA                                     FUNDAÇÃO BAIANA DE PESQ. CIENTIFICA E DESENV. ...   \n",
            "ISOCONAZOL;ABARELIX                                                            VISA ESTADUAL SP TESTE   \n",
            "VALPROATO DE SÓDIO                                                     BIOLAB SANUS FARMACÊUTICA LTDA   \n",
            "\n",
            "                                                       CÓDIGO GGREM  \\\n",
            "SUBSTÂNCIA                                                            \n",
            "SALICILATO DE FENILA;ÁCIDO SALICÍLICO;ÓXIDO DE ...  520500901178410   \n",
            "DIENOGESTE;VALERATO DE ESTRADIOL                    530917060013104   \n",
            "HIDROCLOROTIAZIDA;MALEATO DE ENALAPRIL              525500402113310   \n",
            "HIDROCLOROTIAZIDA;MALEATO DE ENALAPRIL              525500401117312   \n",
            "MONTELUCASTE                                        525502006118219   \n",
            "...                                                             ...   \n",
            "CLORIDRATO DE SEVELÂMER                             544018120000706   \n",
            "INSULINA HUMANA                                     544018060000307   \n",
            "INSULINA HUMANA                                     544018070000407   \n",
            "ISOCONAZOL;ABARELIX                                 542313030000103   \n",
            "VALPROATO DE SÓDIO                                  504118100064506   \n",
            "\n",
            "                                                         REGISTRO  \\\n",
            "SUBSTÂNCIA                                                          \n",
            "SALICILATO DE FENILA;ÁCIDO SALICÍLICO;ÓXIDO DE ...    57600510011   \n",
            "DIENOGESTE;VALERATO DE ESTRADIOL                    1002001390025   \n",
            "HIDROCLOROTIAZIDA;MALEATO DE ENALAPRIL              1002900020141   \n",
            "HIDROCLOROTIAZIDA;MALEATO DE ENALAPRIL              1002900020158   \n",
            "MONTELUCASTE                                        1002900050014   \n",
            "...                                                           ...   \n",
            "CLORIDRATO DE SEVELÂMER                             1988300020011   \n",
            "INSULINA HUMANA                                     1988300040012   \n",
            "INSULINA HUMANA                                     1988300050018   \n",
            "ISOCONAZOL;ABARELIX                                 9965400350064   \n",
            "VALPROATO DE SÓDIO                                         -        \n",
            "\n",
            "                                                            EAN 1  \\\n",
            "SUBSTÂNCIA                                                          \n",
            "SALICILATO DE FENILA;ÁCIDO SALICÍLICO;ÓXIDO DE ...  7896210500354   \n",
            "DIENOGESTE;VALERATO DE ESTRADIOL                    7896116871497   \n",
            "HIDROCLOROTIAZIDA;MALEATO DE ENALAPRIL              7897337705905   \n",
            "HIDROCLOROTIAZIDA;MALEATO DE ENALAPRIL              7897337705912   \n",
            "MONTELUCASTE                                        7897337706575   \n",
            "...                                                           ...   \n",
            "CLORIDRATO DE SEVELÂMER                             7898604730033   \n",
            "INSULINA HUMANA                                     7898604730064   \n",
            "INSULINA HUMANA                                     7898604730071   \n",
            "ISOCONAZOL;ABARELIX                                 2124165465465   \n",
            "VALPROATO DE SÓDIO                                  7896112401247   \n",
            "\n",
            "                                                            EAN 2       EAN 3  \\\n",
            "SUBSTÂNCIA                                                                      \n",
            "SALICILATO DE FENILA;ÁCIDO SALICÍLICO;ÓXIDO DE ...         -           -        \n",
            "DIENOGESTE;VALERATO DE ESTRADIOL                           -           -        \n",
            "HIDROCLOROTIAZIDA;MALEATO DE ENALAPRIL                     -           -        \n",
            "HIDROCLOROTIAZIDA;MALEATO DE ENALAPRIL                     -           -        \n",
            "MONTELUCASTE                                               -           -        \n",
            "...                                                           ...         ...   \n",
            "CLORIDRATO DE SEVELÂMER                                    -           -        \n",
            "INSULINA HUMANA                                            -           -        \n",
            "INSULINA HUMANA                                            -           -        \n",
            "ISOCONAZOL;ABARELIX                                 2587469632224      -        \n",
            "VALPROATO DE SÓDIO                                         -           -        \n",
            "\n",
            "                                                                              PRODUTO  \\\n",
            "SUBSTÂNCIA                                                                              \n",
            "SALICILATO DE FENILA;ÁCIDO SALICÍLICO;ÓXIDO DE ...                       TALCO ALÍVIO   \n",
            "DIENOGESTE;VALERATO DE ESTRADIOL                                            CHARMELIE   \n",
            "HIDROCLOROTIAZIDA;MALEATO DE ENALAPRIL                                     CO-RENITEC   \n",
            "HIDROCLOROTIAZIDA;MALEATO DE ENALAPRIL                                     CO-RENITEC   \n",
            "MONTELUCASTE                                                                SINGULAIR   \n",
            "...                                                                               ...   \n",
            "CLORIDRATO DE SEVELÂMER                                       CLORIDRATO DE SEVELAMER   \n",
            "INSULINA HUMANA                                        BAHIAFARMA INSULINA HUMANA NPH   \n",
            "INSULINA HUMANA                                          BAHIAFARMA INSULINA HUMANA R   \n",
            "ISOCONAZOL;ABARELIX                                 PRODUTO DE MEDICAMENTO PARA TESTE   \n",
            "VALPROATO DE SÓDIO                                                    ÁCIDO VALPRÓICO   \n",
            "\n",
            "                                                                                         APRESENTAÇÃO  \\\n",
            "SUBSTÂNCIA                                                                                              \n",
            "SALICILATO DE FENILA;ÁCIDO SALICÍLICO;ÓXIDO DE ...                                 TALQUEIRA C/ 100 G   \n",
            "DIENOGESTE;VALERATO DE ESTRADIOL                    COM REV A + COM REV B + COM REV C + COM REV D ...   \n",
            "HIDROCLOROTIAZIDA;MALEATO DE ENALAPRIL                           20 MG + 12,5 MG COM CT BL AL/AL X 30   \n",
            "HIDROCLOROTIAZIDA;MALEATO DE ENALAPRIL                             10 MG + 25 MG COM CT BL AL/AL X 30   \n",
            "MONTELUCASTE                                                   5 MG COM MAST CT 3 BL AL PLAS INC X 10   \n",
            "...                                                                                               ...   \n",
            "CLORIDRATO DE SEVELÂMER                                           800 MG COM REV CT FR PLAS OPC X 180   \n",
            "INSULINA HUMANA                                                100 UI/ML SUS INJ CT FA VD INC X 10 ML   \n",
            "INSULINA HUMANA                                                100 UI/ML SOL INJ CT FA VD INC X 10 ML   \n",
            "ISOCONAZOL;ABARELIX                                                           APRESENTAÇÃO 01&nbsp;03   \n",
            "VALPROATO DE SÓDIO                                             250 MG CAP GEL MOLE CT FR VD AMB X 100   \n",
            "\n",
            "                                                                                   CLASSE TERAPÊUTICA  \\\n",
            "SUBSTÂNCIA                                                                                              \n",
            "SALICILATO DE FENILA;ÁCIDO SALICÍLICO;ÓXIDO DE ...                        D10A - ANTIACNEICOS TÓPICOS   \n",
            "DIENOGESTE;VALERATO DE ESTRADIOL                         G3A4 - PREPARAÇÕES CONTRACEPTIVAS TRIFÁSICAS   \n",
            "HIDROCLOROTIAZIDA;MALEATO DE ENALAPRIL              C9B1 - INIBIDORES DA ECA ASSOCIADOS A ANTI-HIP...   \n",
            "HIDROCLOROTIAZIDA;MALEATO DE ENALAPRIL              C9B1 - INIBIDORES DA ECA ASSOCIADOS A ANTI-HIP...   \n",
            "MONTELUCASTE                                        R3J2 - ANTIASMÁTICOS/DPOC ANTILEUCOTRIENOS SIS...   \n",
            "...                                                                                               ...   \n",
            "CLORIDRATO DE SEVELÂMER                                          V3G2 - PRODUTOS PARA HIPERFOSFATEMIA   \n",
            "INSULINA HUMANA                                     A10C2 - INSULINA HUMANA + ANÁLOGOS DE AÇÃO NORMAL   \n",
            "INSULINA HUMANA                                     A10C1 - INSULINA HUMANA E ANÁLOGOS, DE AÇÃO RÁ...   \n",
            "ISOCONAZOL;ABARELIX                                 R3C1 - ANTIASMÁTICOS/DPOC ANTIINFLAMATORIOS NÃ...   \n",
            "VALPROATO DE SÓDIO                                                              N3A - ANTIEPILÉPTICOS   \n",
            "\n",
            "                                                    ... PMC 18% ALC PMC 20%  \\\n",
            "SUBSTÂNCIA                                          ...                       \n",
            "SALICILATO DE FENILA;ÁCIDO SALICÍLICO;ÓXIDO DE ...  ...        8,50    9,70   \n",
            "DIENOGESTE;VALERATO DE ESTRADIOL                    ...      163,25  186,12   \n",
            "HIDROCLOROTIAZIDA;MALEATO DE ENALAPRIL              ...       73,78   75,62   \n",
            "HIDROCLOROTIAZIDA;MALEATO DE ENALAPRIL              ...       48,45   49,67   \n",
            "MONTELUCASTE                                        ...       75,32   77,20   \n",
            "...                                                 ...         ...     ...   \n",
            "CLORIDRATO DE SEVELÂMER                             ...         NaN     NaN   \n",
            "INSULINA HUMANA                                     ...         NaN     NaN   \n",
            "INSULINA HUMANA                                     ...         NaN     NaN   \n",
            "ISOCONAZOL;ABARELIX                                 ...       12,35   14,07   \n",
            "VALPROATO DE SÓDIO                                  ...       54,86   56,24   \n",
            "\n",
            "                                                   RESTRIÇÃO HOSPITALAR  CAP  \\\n",
            "SUBSTÂNCIA                                                                     \n",
            "SALICILATO DE FENILA;ÁCIDO SALICÍLICO;ÓXIDO DE ...                  Não  Não   \n",
            "DIENOGESTE;VALERATO DE ESTRADIOL                                    Não  Não   \n",
            "HIDROCLOROTIAZIDA;MALEATO DE ENALAPRIL                              Não  Não   \n",
            "HIDROCLOROTIAZIDA;MALEATO DE ENALAPRIL                              Não  Não   \n",
            "MONTELUCASTE                                                        Não  Não   \n",
            "...                                                                 ...  ...   \n",
            "CLORIDRATO DE SEVELÂMER                                             Sim  Sim   \n",
            "INSULINA HUMANA                                                     Não  Sim   \n",
            "INSULINA HUMANA                                                     Não  Sim   \n",
            "ISOCONAZOL;ABARELIX                                                 Não  Não   \n",
            "VALPROATO DE SÓDIO                                                  Não  Não   \n",
            "\n",
            "                                                   CONFAZ 87 ICMS 0%  \\\n",
            "SUBSTÂNCIA                                                             \n",
            "SALICILATO DE FENILA;ÁCIDO SALICÍLICO;ÓXIDO DE ...       Não     Não   \n",
            "DIENOGESTE;VALERATO DE ESTRADIOL                         Não     Não   \n",
            "HIDROCLOROTIAZIDA;MALEATO DE ENALAPRIL                   Não     Não   \n",
            "HIDROCLOROTIAZIDA;MALEATO DE ENALAPRIL                   Não     Não   \n",
            "MONTELUCASTE                                             Não     Não   \n",
            "...                                                      ...     ...   \n",
            "CLORIDRATO DE SEVELÂMER                                  Sim     Sim   \n",
            "INSULINA HUMANA                                          Sim     Sim   \n",
            "INSULINA HUMANA                                          Sim     Sim   \n",
            "ISOCONAZOL;ABARELIX                                      Sim     Não   \n",
            "VALPROATO DE SÓDIO                                       Não     Não   \n",
            "\n",
            "                                                   ANÁLISE RECURSAL  \\\n",
            "SUBSTÂNCIA                                                            \n",
            "SALICILATO DE FENILA;ÁCIDO SALICÍLICO;ÓXIDO DE ...              NaN   \n",
            "DIENOGESTE;VALERATO DE ESTRADIOL                                NaN   \n",
            "HIDROCLOROTIAZIDA;MALEATO DE ENALAPRIL                          NaN   \n",
            "HIDROCLOROTIAZIDA;MALEATO DE ENALAPRIL                          NaN   \n",
            "MONTELUCASTE                                                    NaN   \n",
            "...                                                             ...   \n",
            "CLORIDRATO DE SEVELÂMER                                         NaN   \n",
            "INSULINA HUMANA                                                 NaN   \n",
            "INSULINA HUMANA                                                 NaN   \n",
            "ISOCONAZOL;ABARELIX                                             NaN   \n",
            "VALPROATO DE SÓDIO                                              NaN   \n",
            "\n",
            "                                                   LISTA DE CONCESSÃO DE CRÉDITO TRIBUTÁRIO (PIS/COFINS)  \\\n",
            "SUBSTÂNCIA                                                                                                 \n",
            "SALICILATO DE FENILA;ÁCIDO SALICÍLICO;ÓXIDO DE ...                                           Negativa      \n",
            "DIENOGESTE;VALERATO DE ESTRADIOL                                                             Negativa      \n",
            "HIDROCLOROTIAZIDA;MALEATO DE ENALAPRIL                                                       Positiva      \n",
            "HIDROCLOROTIAZIDA;MALEATO DE ENALAPRIL                                                       Positiva      \n",
            "MONTELUCASTE                                                                                 Positiva      \n",
            "...                                                                                               ...      \n",
            "CLORIDRATO DE SEVELÂMER                                                                      Negativa      \n",
            "INSULINA HUMANA                                                                              Positiva      \n",
            "INSULINA HUMANA                                                                              Positiva      \n",
            "ISOCONAZOL;ABARELIX                                                                          Negativa      \n",
            "VALPROATO DE SÓDIO                                                                           Positiva      \n",
            "\n",
            "                                                   COMERCIALIZAÇÃO 2020  \\\n",
            "SUBSTÂNCIA                                                                \n",
            "SALICILATO DE FENILA;ÁCIDO SALICÍLICO;ÓXIDO DE ...                  Não   \n",
            "DIENOGESTE;VALERATO DE ESTRADIOL                                    Não   \n",
            "HIDROCLOROTIAZIDA;MALEATO DE ENALAPRIL                              Não   \n",
            "HIDROCLOROTIAZIDA;MALEATO DE ENALAPRIL                              Não   \n",
            "MONTELUCASTE                                                        Sim   \n",
            "...                                                                 ...   \n",
            "CLORIDRATO DE SEVELÂMER                                             Não   \n",
            "INSULINA HUMANA                                                     Sim   \n",
            "INSULINA HUMANA                                                     Sim   \n",
            "ISOCONAZOL;ABARELIX                                                 Não   \n",
            "VALPROATO DE SÓDIO                                                  Sim   \n",
            "\n",
            "                                                                TARJA  \n",
            "SUBSTÂNCIA                                                             \n",
            "SALICILATO DE FENILA;ÁCIDO SALICÍLICO;ÓXIDO DE ...         Tarja -(*)  \n",
            "DIENOGESTE;VALERATO DE ESTRADIOL                    Tarja Vermelha(*)  \n",
            "HIDROCLOROTIAZIDA;MALEATO DE ENALAPRIL                Tarja  Vermelha  \n",
            "HIDROCLOROTIAZIDA;MALEATO DE ENALAPRIL                Tarja  Vermelha  \n",
            "MONTELUCASTE                                          Tarja  Vermelha  \n",
            "...                                                               ...  \n",
            "CLORIDRATO DE SEVELÂMER                             Tarja Vermelha(*)  \n",
            "INSULINA HUMANA                                     Tarja Vermelha(*)  \n",
            "INSULINA HUMANA                                       Tarja  Vermelha  \n",
            "ISOCONAZOL;ABARELIX                                   Tarja  Vermelha  \n",
            "VALPROATO DE SÓDIO                                         Tarja -(*)  \n",
            "\n",
            "[26310 rows x 39 columns]\n"
          ]
        },
        {
          "output_type": "stream",
          "name": "stderr",
          "text": [
            "/usr/local/lib/python3.7/dist-packages/IPython/core/interactiveshell.py:2882: DtypeWarning: Columns (4) have mixed types.Specify dtype option on import or set low_memory=False.\n",
            "  exec(code_obj, self.user_global_ns, self.user_ns)\n"
          ]
        }
      ]
    },
    {
      "cell_type": "code",
      "source": [
        "url='http://dados.anvisa.gov.br/dados/TA_PRECO_MEDICAMENTO.csv'\n",
        "page = requests.get(url, verify=False)\n",
        "df=pd.read_csv(page,index_col=0, sep=';', encoding='latin-1')\n",
        "df"
      ],
      "metadata": {
        "colab": {
          "base_uri": "https://localhost:8080/",
          "height": 467
        },
        "id": "O9LwjudHuOev",
        "outputId": "c00aed60-2afa-49ba-f77a-c01509591c8b"
      },
      "execution_count": 48,
      "outputs": [
        {
          "output_type": "stream",
          "name": "stderr",
          "text": [
            "/usr/local/lib/python3.7/dist-packages/urllib3/connectionpool.py:847: InsecureRequestWarning: Unverified HTTPS request is being made. Adding certificate verification is strongly advised. See: https://urllib3.readthedocs.io/en/latest/advanced-usage.html#ssl-warnings\n",
            "  InsecureRequestWarning)\n"
          ]
        },
        {
          "output_type": "error",
          "ename": "ValueError",
          "evalue": "ignored",
          "traceback": [
            "\u001b[0;31m---------------------------------------------------------------------------\u001b[0m",
            "\u001b[0;31mValueError\u001b[0m                                Traceback (most recent call last)",
            "\u001b[0;32m<ipython-input-48-16f4a79596d1>\u001b[0m in \u001b[0;36m<module>\u001b[0;34m()\u001b[0m\n\u001b[1;32m      1\u001b[0m \u001b[0murl\u001b[0m\u001b[0;34m=\u001b[0m\u001b[0;34m'http://dados.anvisa.gov.br/dados/TA_PRECO_MEDICAMENTO.csv'\u001b[0m\u001b[0;34m\u001b[0m\u001b[0;34m\u001b[0m\u001b[0m\n\u001b[1;32m      2\u001b[0m \u001b[0mpage\u001b[0m \u001b[0;34m=\u001b[0m \u001b[0mrequests\u001b[0m\u001b[0;34m.\u001b[0m\u001b[0mget\u001b[0m\u001b[0;34m(\u001b[0m\u001b[0murl\u001b[0m\u001b[0;34m,\u001b[0m \u001b[0mverify\u001b[0m\u001b[0;34m=\u001b[0m\u001b[0;32mFalse\u001b[0m\u001b[0;34m)\u001b[0m\u001b[0;34m\u001b[0m\u001b[0;34m\u001b[0m\u001b[0m\n\u001b[0;32m----> 3\u001b[0;31m \u001b[0mdf\u001b[0m\u001b[0;34m=\u001b[0m\u001b[0mpd\u001b[0m\u001b[0;34m.\u001b[0m\u001b[0mread_csv\u001b[0m\u001b[0;34m(\u001b[0m\u001b[0mpage\u001b[0m\u001b[0;34m,\u001b[0m\u001b[0mindex_col\u001b[0m\u001b[0;34m=\u001b[0m\u001b[0;36m0\u001b[0m\u001b[0;34m,\u001b[0m \u001b[0msep\u001b[0m\u001b[0;34m=\u001b[0m\u001b[0;34m';'\u001b[0m\u001b[0;34m,\u001b[0m \u001b[0mencoding\u001b[0m\u001b[0;34m=\u001b[0m\u001b[0;34m'latin-1'\u001b[0m\u001b[0;34m)\u001b[0m\u001b[0;34m\u001b[0m\u001b[0;34m\u001b[0m\u001b[0m\n\u001b[0m\u001b[1;32m      4\u001b[0m \u001b[0mdf\u001b[0m\u001b[0;34m\u001b[0m\u001b[0;34m\u001b[0m\u001b[0m\n",
            "\u001b[0;32m/usr/local/lib/python3.7/dist-packages/pandas/util/_decorators.py\u001b[0m in \u001b[0;36mwrapper\u001b[0;34m(*args, **kwargs)\u001b[0m\n\u001b[1;32m    309\u001b[0m                     \u001b[0mstacklevel\u001b[0m\u001b[0;34m=\u001b[0m\u001b[0mstacklevel\u001b[0m\u001b[0;34m,\u001b[0m\u001b[0;34m\u001b[0m\u001b[0;34m\u001b[0m\u001b[0m\n\u001b[1;32m    310\u001b[0m                 )\n\u001b[0;32m--> 311\u001b[0;31m             \u001b[0;32mreturn\u001b[0m \u001b[0mfunc\u001b[0m\u001b[0;34m(\u001b[0m\u001b[0;34m*\u001b[0m\u001b[0margs\u001b[0m\u001b[0;34m,\u001b[0m \u001b[0;34m**\u001b[0m\u001b[0mkwargs\u001b[0m\u001b[0;34m)\u001b[0m\u001b[0;34m\u001b[0m\u001b[0;34m\u001b[0m\u001b[0m\n\u001b[0m\u001b[1;32m    312\u001b[0m \u001b[0;34m\u001b[0m\u001b[0m\n\u001b[1;32m    313\u001b[0m         \u001b[0;32mreturn\u001b[0m \u001b[0mwrapper\u001b[0m\u001b[0;34m\u001b[0m\u001b[0;34m\u001b[0m\u001b[0m\n",
            "\u001b[0;32m/usr/local/lib/python3.7/dist-packages/pandas/io/parsers/readers.py\u001b[0m in \u001b[0;36mread_csv\u001b[0;34m(filepath_or_buffer, sep, delimiter, header, names, index_col, usecols, squeeze, prefix, mangle_dupe_cols, dtype, engine, converters, true_values, false_values, skipinitialspace, skiprows, skipfooter, nrows, na_values, keep_default_na, na_filter, verbose, skip_blank_lines, parse_dates, infer_datetime_format, keep_date_col, date_parser, dayfirst, cache_dates, iterator, chunksize, compression, thousands, decimal, lineterminator, quotechar, quoting, doublequote, escapechar, comment, encoding, encoding_errors, dialect, error_bad_lines, warn_bad_lines, on_bad_lines, delim_whitespace, low_memory, memory_map, float_precision, storage_options)\u001b[0m\n\u001b[1;32m    584\u001b[0m     \u001b[0mkwds\u001b[0m\u001b[0;34m.\u001b[0m\u001b[0mupdate\u001b[0m\u001b[0;34m(\u001b[0m\u001b[0mkwds_defaults\u001b[0m\u001b[0;34m)\u001b[0m\u001b[0;34m\u001b[0m\u001b[0;34m\u001b[0m\u001b[0m\n\u001b[1;32m    585\u001b[0m \u001b[0;34m\u001b[0m\u001b[0m\n\u001b[0;32m--> 586\u001b[0;31m     \u001b[0;32mreturn\u001b[0m \u001b[0m_read\u001b[0m\u001b[0;34m(\u001b[0m\u001b[0mfilepath_or_buffer\u001b[0m\u001b[0;34m,\u001b[0m \u001b[0mkwds\u001b[0m\u001b[0;34m)\u001b[0m\u001b[0;34m\u001b[0m\u001b[0;34m\u001b[0m\u001b[0m\n\u001b[0m\u001b[1;32m    587\u001b[0m \u001b[0;34m\u001b[0m\u001b[0m\n\u001b[1;32m    588\u001b[0m \u001b[0;34m\u001b[0m\u001b[0m\n",
            "\u001b[0;32m/usr/local/lib/python3.7/dist-packages/pandas/io/parsers/readers.py\u001b[0m in \u001b[0;36m_read\u001b[0;34m(filepath_or_buffer, kwds)\u001b[0m\n\u001b[1;32m    480\u001b[0m \u001b[0;34m\u001b[0m\u001b[0m\n\u001b[1;32m    481\u001b[0m     \u001b[0;31m# Create the parser.\u001b[0m\u001b[0;34m\u001b[0m\u001b[0;34m\u001b[0m\u001b[0;34m\u001b[0m\u001b[0m\n\u001b[0;32m--> 482\u001b[0;31m     \u001b[0mparser\u001b[0m \u001b[0;34m=\u001b[0m \u001b[0mTextFileReader\u001b[0m\u001b[0;34m(\u001b[0m\u001b[0mfilepath_or_buffer\u001b[0m\u001b[0;34m,\u001b[0m \u001b[0;34m**\u001b[0m\u001b[0mkwds\u001b[0m\u001b[0;34m)\u001b[0m\u001b[0;34m\u001b[0m\u001b[0;34m\u001b[0m\u001b[0m\n\u001b[0m\u001b[1;32m    483\u001b[0m \u001b[0;34m\u001b[0m\u001b[0m\n\u001b[1;32m    484\u001b[0m     \u001b[0;32mif\u001b[0m \u001b[0mchunksize\u001b[0m \u001b[0;32mor\u001b[0m \u001b[0miterator\u001b[0m\u001b[0;34m:\u001b[0m\u001b[0;34m\u001b[0m\u001b[0;34m\u001b[0m\u001b[0m\n",
            "\u001b[0;32m/usr/local/lib/python3.7/dist-packages/pandas/io/parsers/readers.py\u001b[0m in \u001b[0;36m__init__\u001b[0;34m(self, f, engine, **kwds)\u001b[0m\n\u001b[1;32m    809\u001b[0m             \u001b[0mself\u001b[0m\u001b[0;34m.\u001b[0m\u001b[0moptions\u001b[0m\u001b[0;34m[\u001b[0m\u001b[0;34m\"has_index_names\"\u001b[0m\u001b[0;34m]\u001b[0m \u001b[0;34m=\u001b[0m \u001b[0mkwds\u001b[0m\u001b[0;34m[\u001b[0m\u001b[0;34m\"has_index_names\"\u001b[0m\u001b[0;34m]\u001b[0m\u001b[0;34m\u001b[0m\u001b[0;34m\u001b[0m\u001b[0m\n\u001b[1;32m    810\u001b[0m \u001b[0;34m\u001b[0m\u001b[0m\n\u001b[0;32m--> 811\u001b[0;31m         \u001b[0mself\u001b[0m\u001b[0;34m.\u001b[0m\u001b[0m_engine\u001b[0m \u001b[0;34m=\u001b[0m \u001b[0mself\u001b[0m\u001b[0;34m.\u001b[0m\u001b[0m_make_engine\u001b[0m\u001b[0;34m(\u001b[0m\u001b[0mself\u001b[0m\u001b[0;34m.\u001b[0m\u001b[0mengine\u001b[0m\u001b[0;34m)\u001b[0m\u001b[0;34m\u001b[0m\u001b[0;34m\u001b[0m\u001b[0m\n\u001b[0m\u001b[1;32m    812\u001b[0m \u001b[0;34m\u001b[0m\u001b[0m\n\u001b[1;32m    813\u001b[0m     \u001b[0;32mdef\u001b[0m \u001b[0mclose\u001b[0m\u001b[0;34m(\u001b[0m\u001b[0mself\u001b[0m\u001b[0;34m)\u001b[0m\u001b[0;34m:\u001b[0m\u001b[0;34m\u001b[0m\u001b[0;34m\u001b[0m\u001b[0m\n",
            "\u001b[0;32m/usr/local/lib/python3.7/dist-packages/pandas/io/parsers/readers.py\u001b[0m in \u001b[0;36m_make_engine\u001b[0;34m(self, engine)\u001b[0m\n\u001b[1;32m   1038\u001b[0m             )\n\u001b[1;32m   1039\u001b[0m         \u001b[0;31m# error: Too many arguments for \"ParserBase\"\u001b[0m\u001b[0;34m\u001b[0m\u001b[0;34m\u001b[0m\u001b[0;34m\u001b[0m\u001b[0m\n\u001b[0;32m-> 1040\u001b[0;31m         \u001b[0;32mreturn\u001b[0m \u001b[0mmapping\u001b[0m\u001b[0;34m[\u001b[0m\u001b[0mengine\u001b[0m\u001b[0;34m]\u001b[0m\u001b[0;34m(\u001b[0m\u001b[0mself\u001b[0m\u001b[0;34m.\u001b[0m\u001b[0mf\u001b[0m\u001b[0;34m,\u001b[0m \u001b[0;34m**\u001b[0m\u001b[0mself\u001b[0m\u001b[0;34m.\u001b[0m\u001b[0moptions\u001b[0m\u001b[0;34m)\u001b[0m  \u001b[0;31m# type: ignore[call-arg]\u001b[0m\u001b[0;34m\u001b[0m\u001b[0;34m\u001b[0m\u001b[0m\n\u001b[0m\u001b[1;32m   1041\u001b[0m \u001b[0;34m\u001b[0m\u001b[0m\n\u001b[1;32m   1042\u001b[0m     \u001b[0;32mdef\u001b[0m \u001b[0m_failover_to_python\u001b[0m\u001b[0;34m(\u001b[0m\u001b[0mself\u001b[0m\u001b[0;34m)\u001b[0m\u001b[0;34m:\u001b[0m\u001b[0;34m\u001b[0m\u001b[0;34m\u001b[0m\u001b[0m\n",
            "\u001b[0;32m/usr/local/lib/python3.7/dist-packages/pandas/io/parsers/c_parser_wrapper.py\u001b[0m in \u001b[0;36m__init__\u001b[0;34m(self, src, **kwds)\u001b[0m\n\u001b[1;32m     49\u001b[0m \u001b[0;34m\u001b[0m\u001b[0m\n\u001b[1;32m     50\u001b[0m         \u001b[0;31m# open handles\u001b[0m\u001b[0;34m\u001b[0m\u001b[0;34m\u001b[0m\u001b[0;34m\u001b[0m\u001b[0m\n\u001b[0;32m---> 51\u001b[0;31m         \u001b[0mself\u001b[0m\u001b[0;34m.\u001b[0m\u001b[0m_open_handles\u001b[0m\u001b[0;34m(\u001b[0m\u001b[0msrc\u001b[0m\u001b[0;34m,\u001b[0m \u001b[0mkwds\u001b[0m\u001b[0;34m)\u001b[0m\u001b[0;34m\u001b[0m\u001b[0;34m\u001b[0m\u001b[0m\n\u001b[0m\u001b[1;32m     52\u001b[0m         \u001b[0;32massert\u001b[0m \u001b[0mself\u001b[0m\u001b[0;34m.\u001b[0m\u001b[0mhandles\u001b[0m \u001b[0;32mis\u001b[0m \u001b[0;32mnot\u001b[0m \u001b[0;32mNone\u001b[0m\u001b[0;34m\u001b[0m\u001b[0;34m\u001b[0m\u001b[0m\n\u001b[1;32m     53\u001b[0m \u001b[0;34m\u001b[0m\u001b[0m\n",
            "\u001b[0;32m/usr/local/lib/python3.7/dist-packages/pandas/io/parsers/base_parser.py\u001b[0m in \u001b[0;36m_open_handles\u001b[0;34m(self, src, kwds)\u001b[0m\n\u001b[1;32m    227\u001b[0m             \u001b[0mmemory_map\u001b[0m\u001b[0;34m=\u001b[0m\u001b[0mkwds\u001b[0m\u001b[0;34m.\u001b[0m\u001b[0mget\u001b[0m\u001b[0;34m(\u001b[0m\u001b[0;34m\"memory_map\"\u001b[0m\u001b[0;34m,\u001b[0m \u001b[0;32mFalse\u001b[0m\u001b[0;34m)\u001b[0m\u001b[0;34m,\u001b[0m\u001b[0;34m\u001b[0m\u001b[0;34m\u001b[0m\u001b[0m\n\u001b[1;32m    228\u001b[0m             \u001b[0mstorage_options\u001b[0m\u001b[0;34m=\u001b[0m\u001b[0mkwds\u001b[0m\u001b[0;34m.\u001b[0m\u001b[0mget\u001b[0m\u001b[0;34m(\u001b[0m\u001b[0;34m\"storage_options\"\u001b[0m\u001b[0;34m,\u001b[0m \u001b[0;32mNone\u001b[0m\u001b[0;34m)\u001b[0m\u001b[0;34m,\u001b[0m\u001b[0;34m\u001b[0m\u001b[0;34m\u001b[0m\u001b[0m\n\u001b[0;32m--> 229\u001b[0;31m             \u001b[0merrors\u001b[0m\u001b[0;34m=\u001b[0m\u001b[0mkwds\u001b[0m\u001b[0;34m.\u001b[0m\u001b[0mget\u001b[0m\u001b[0;34m(\u001b[0m\u001b[0;34m\"encoding_errors\"\u001b[0m\u001b[0;34m,\u001b[0m \u001b[0;34m\"strict\"\u001b[0m\u001b[0;34m)\u001b[0m\u001b[0;34m,\u001b[0m\u001b[0;34m\u001b[0m\u001b[0;34m\u001b[0m\u001b[0m\n\u001b[0m\u001b[1;32m    230\u001b[0m         )\n\u001b[1;32m    231\u001b[0m \u001b[0;34m\u001b[0m\u001b[0m\n",
            "\u001b[0;32m/usr/local/lib/python3.7/dist-packages/pandas/io/common.py\u001b[0m in \u001b[0;36mget_handle\u001b[0;34m(path_or_buf, mode, encoding, compression, memory_map, is_text, errors, storage_options)\u001b[0m\n\u001b[1;32m    612\u001b[0m         \u001b[0mcompression\u001b[0m\u001b[0;34m=\u001b[0m\u001b[0mcompression\u001b[0m\u001b[0;34m,\u001b[0m\u001b[0;34m\u001b[0m\u001b[0;34m\u001b[0m\u001b[0m\n\u001b[1;32m    613\u001b[0m         \u001b[0mmode\u001b[0m\u001b[0;34m=\u001b[0m\u001b[0mmode\u001b[0m\u001b[0;34m,\u001b[0m\u001b[0;34m\u001b[0m\u001b[0;34m\u001b[0m\u001b[0m\n\u001b[0;32m--> 614\u001b[0;31m         \u001b[0mstorage_options\u001b[0m\u001b[0;34m=\u001b[0m\u001b[0mstorage_options\u001b[0m\u001b[0;34m,\u001b[0m\u001b[0;34m\u001b[0m\u001b[0;34m\u001b[0m\u001b[0m\n\u001b[0m\u001b[1;32m    615\u001b[0m     )\n\u001b[1;32m    616\u001b[0m \u001b[0;34m\u001b[0m\u001b[0m\n",
            "\u001b[0;32m/usr/local/lib/python3.7/dist-packages/pandas/io/common.py\u001b[0m in \u001b[0;36m_get_filepath_or_buffer\u001b[0;34m(filepath_or_buffer, encoding, compression, mode, storage_options)\u001b[0m\n\u001b[1;32m    394\u001b[0m     \u001b[0;32mif\u001b[0m \u001b[0;32mnot\u001b[0m \u001b[0mis_file_like\u001b[0m\u001b[0;34m(\u001b[0m\u001b[0mfilepath_or_buffer\u001b[0m\u001b[0;34m)\u001b[0m\u001b[0;34m:\u001b[0m\u001b[0;34m\u001b[0m\u001b[0;34m\u001b[0m\u001b[0m\n\u001b[1;32m    395\u001b[0m         \u001b[0mmsg\u001b[0m \u001b[0;34m=\u001b[0m \u001b[0;34mf\"Invalid file path or buffer object type: {type(filepath_or_buffer)}\"\u001b[0m\u001b[0;34m\u001b[0m\u001b[0;34m\u001b[0m\u001b[0m\n\u001b[0;32m--> 396\u001b[0;31m         \u001b[0;32mraise\u001b[0m \u001b[0mValueError\u001b[0m\u001b[0;34m(\u001b[0m\u001b[0mmsg\u001b[0m\u001b[0;34m)\u001b[0m\u001b[0;34m\u001b[0m\u001b[0;34m\u001b[0m\u001b[0m\n\u001b[0m\u001b[1;32m    397\u001b[0m \u001b[0;34m\u001b[0m\u001b[0m\n\u001b[1;32m    398\u001b[0m     return IOArgs(\n",
            "\u001b[0;31mValueError\u001b[0m: Invalid file path or buffer object type: <class 'requests.models.Response'>"
          ]
        }
      ]
    }
  ]
}