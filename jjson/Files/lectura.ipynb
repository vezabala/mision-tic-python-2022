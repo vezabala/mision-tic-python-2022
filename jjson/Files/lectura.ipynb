{
 "cells": [
  {
   "cell_type": "code",
   "execution_count": 12,
   "metadata": {},
   "outputs": [
    {
     "name": "stdout",
     "output_type": "stream",
     "text": [
      "['jairo', 123]\n",
      "['jairo', 124]\n",
      "['jairo', 125]\n"
     ]
    }
   ],
   "source": [
    "import pandas as pd\n",
    "\n",
    "f=pd.read_csv('persona.csv')\n",
    "lista=f.values.tolist()\n",
    "for i in lista:\n",
    "    print(i)"
   ]
  },
  {
   "cell_type": "code",
   "execution_count": 16,
   "metadata": {},
   "outputs": [
    {
     "name": "stdout",
     "output_type": "stream",
     "text": [
      "   n  m  no\n",
      "0  a  M   4\n",
      "1  b  F   5\n",
      "2  a  M   4\n",
      "3  b  F   5\n"
     ]
    }
   ],
   "source": [
    "nombre=['a','b','a','b']\n",
    "materia=['M','F','M','F']\n",
    "nota=[4,5,4,5]\n",
    "\n",
    "d={'n':nombre,'m':materia,'no':nota}\n",
    "\n",
    "df=pd.DataFrame(d)\n",
    "print(df)\n",
    "df.to_csv('persona.csv')"
   ]
  },
  {
   "cell_type": "code",
   "execution_count": 17,
   "metadata": {},
   "outputs": [
    {
     "name": "stdout",
     "output_type": "stream",
     "text": [
      "  Unnamed: 0  a  b  c\n",
      "0        one  1  2  3\n",
      "1        two  4  5  6\n",
      "2      three  7  8  9\n"
     ]
    }
   ],
   "source": [
    "df=pd.read_excel('pandas.xlsx')\n",
    "print(df)"
   ]
  },
  {
   "cell_type": "code",
   "execution_count": 20,
   "metadata": {},
   "outputs": [],
   "source": [
    "df=pd.DataFrame([[1,2,3,4],[5,6,7,8],[9,10,11,12]],index=['a','b','c'],columns=['a','b','c','d']\n",
    "        \n",
    "    )\n",
    "\n",
    "df.to_excel('pandas.xlsx')"
   ]
  },
  {
   "cell_type": "code",
   "execution_count": 21,
   "metadata": {},
   "outputs": [
    {
     "name": "stdout",
     "output_type": "stream",
     "text": [
      "      Nombre  Age\n",
      "0  Alexander   33\n",
      "1     Alicia   25\n",
      "2    tatiana   91\n"
     ]
    }
   ],
   "source": [
    "#import json\n",
    "\n",
    "df=pd.read_json('ejemplo.json')\n",
    "print(df)"
   ]
  },
  {
   "cell_type": "code",
   "execution_count": 24,
   "metadata": {},
   "outputs": [
    {
     "name": "stdout",
     "output_type": "stream",
     "text": [
      "<Response [200]>\n",
      "   userId  id                title  completed\n",
      "0       1   3  fugiat veniam minus      False\n"
     ]
    }
   ],
   "source": [
    "import pandas as pd\n",
    "#paquete o libreria que no spermite\n",
    "#cargar todos los datos de una url\n",
    "import requests\n",
    "#pasando los datos de la url\n",
    "url='https://jsonplaceholder.typicode.com/todos/3'\n",
    "#optener los datos\n",
    "r=requests.get(url)\n",
    "print(r)\n",
    "#carga normalizadas de datos como un dataframe\n",
    "df=pd.json_normalize(r.json())\n",
    "print(df)"
   ]
  }
 ],
 "metadata": {
  "interpreter": {
   "hash": "c39ee6e24b83006eb386f86b08c4fd4839bfb2c807e17caea351eeccecc27516"
  },
  "kernelspec": {
   "display_name": "Python 3.9.7 ('base')",
   "language": "python",
   "name": "python3"
  },
  "language_info": {
   "codemirror_mode": {
    "name": "ipython",
    "version": 3
   },
   "file_extension": ".py",
   "mimetype": "text/x-python",
   "name": "python",
   "nbconvert_exporter": "python",
   "pygments_lexer": "ipython3",
   "version": "3.9.7"
  },
  "orig_nbformat": 4
 },
 "nbformat": 4,
 "nbformat_minor": 2
}
